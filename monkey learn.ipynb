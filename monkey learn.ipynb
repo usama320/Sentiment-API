{
 "cells": [
  {
   "cell_type": "code",
   "execution_count": 2,
   "metadata": {
    "collapsed": true
   },
   "outputs": [],
   "source": [
    "from monkeylearn import MonkeyLearn"
   ]
  },
  {
   "cell_type": "code",
   "execution_count": 71,
   "metadata": {
    "collapsed": true
   },
   "outputs": [],
   "source": [
    "import pandas as pd\n",
    "ls = pd.DataFrame()"
   ]
  },
  {
   "cell_type": "code",
   "execution_count": 72,
   "metadata": {
    "collapsed": true
   },
   "outputs": [],
   "source": [
    "datas = pd.read_csv('z:/test.csv')"
   ]
  },
  {
   "cell_type": "code",
   "execution_count": 73,
   "metadata": {
    "collapsed": true
   },
   "outputs": [],
   "source": [
    "testing = datas['text']"
   ]
  },
  {
   "cell_type": "code",
   "execution_count": 75,
   "metadata": {},
   "outputs": [
    {
     "name": "stdout",
     "output_type": "stream",
     "text": [
      "Neutral\n",
      "Negative\n",
      "Negative\n",
      "Negative\n",
      "Negative\n",
      "Positive\n",
      "Positive\n",
      "Negative\n",
      "Positive\n",
      "Positive\n",
      "Neutral\n",
      "Negative\n",
      "Negative\n",
      "Negative\n",
      "Neutral\n",
      "Negative\n",
      "Neutral\n",
      "Negative\n",
      "Neutral\n",
      "Negative\n",
      "Negative\n",
      "Neutral\n",
      "Neutral\n",
      "Positive\n",
      "Positive\n",
      "Neutral\n",
      "Negative\n",
      "Neutral\n",
      "Negative\n",
      "Negative\n",
      "Negative\n",
      "Negative\n",
      "Negative\n",
      "Negative\n",
      "Neutral\n",
      "Negative\n",
      "Negative\n",
      "Neutral\n",
      "Negative\n",
      "Negative\n",
      "Neutral\n",
      "Neutral\n",
      "Neutral\n",
      "Neutral\n",
      "Positive\n",
      "Negative\n",
      "Negative\n",
      "Positive\n",
      "Negative\n",
      "Negative\n",
      "Neutral\n",
      "Negative\n",
      "Negative\n",
      "Negative\n",
      "Neutral\n",
      "Neutral\n",
      "Neutral\n",
      "Negative\n",
      "Negative\n",
      "Neutral\n",
      "Neutral\n",
      "Neutral\n",
      "Negative\n",
      "Negative\n",
      "Positive\n",
      "Negative\n",
      "Neutral\n",
      "Negative\n",
      "Negative\n",
      "Negative\n",
      "Positive\n",
      "Neutral\n",
      "Positive\n",
      "Negative\n",
      "Positive\n",
      "Positive\n",
      "Positive\n",
      "Positive\n",
      "Neutral\n",
      "Positive\n",
      "Negative\n",
      "Positive\n",
      "Positive\n",
      "Negative\n",
      "Neutral\n",
      "Negative\n",
      "Neutral\n",
      "Neutral\n",
      "Positive\n",
      "Neutral\n",
      "Positive\n",
      "Negative\n",
      "Neutral\n",
      "Positive\n",
      "Positive\n",
      "Neutral\n",
      "Neutral\n",
      "Positive\n",
      "Positive\n",
      "Neutral\n",
      "Neutral\n",
      "Negative\n",
      "Negative\n",
      "Positive\n",
      "Negative\n",
      "Positive\n",
      "Positive\n",
      "Positive\n",
      "Negative\n",
      "Neutral\n",
      "Negative\n",
      "Positive\n",
      "Neutral\n",
      "Positive\n",
      "Neutral\n",
      "Neutral\n",
      "Neutral\n",
      "Positive\n",
      "Negative\n",
      "Neutral\n",
      "Neutral\n",
      "Negative\n",
      "Negative\n",
      "Negative\n",
      "Neutral\n",
      "Negative\n",
      "Neutral\n",
      "Neutral\n",
      "Neutral\n",
      "Neutral\n",
      "Neutral\n",
      "Positive\n",
      "Positive\n",
      "Negative\n",
      "Neutral\n",
      "Neutral\n",
      "Positive\n",
      "Neutral\n",
      "Negative\n",
      "Negative\n",
      "Positive\n",
      "Negative\n",
      "Neutral\n",
      "Neutral\n",
      "Neutral\n",
      "Negative\n",
      "Negative\n",
      "Positive\n",
      "Negative\n",
      "Neutral\n",
      "Neutral\n",
      "Negative\n",
      "Neutral\n",
      "Neutral\n",
      "Neutral\n",
      "Neutral\n",
      "Negative\n",
      "Negative\n",
      "Neutral\n",
      "Neutral\n",
      "Negative\n",
      "Neutral\n",
      "Positive\n",
      "Negative\n",
      "Neutral\n",
      "Positive\n",
      "Positive\n",
      "Positive\n",
      "Neutral\n",
      "Negative\n",
      "Positive\n",
      "Neutral\n",
      "Positive\n",
      "Negative\n",
      "Negative\n",
      "Neutral\n",
      "Negative\n",
      "Neutral\n",
      "Neutral\n",
      "Negative\n",
      "Neutral\n",
      "Positive\n",
      "Neutral\n",
      "Positive\n",
      "Neutral\n",
      "Negative\n",
      "Neutral\n",
      "Positive\n",
      "Negative\n",
      "Neutral\n",
      "Neutral\n",
      "Positive\n",
      "Positive\n",
      "Negative\n",
      "Positive\n",
      "Positive\n",
      "Neutral\n",
      "Negative\n",
      "Positive\n"
     ]
    }
   ],
   "source": [
    "for i in testing:\n",
    "    ml = MonkeyLearn('0d5ae6c4135a989226f519c928f6d1fcdc97e05d')\n",
    "    srt = [i]\n",
    "    data = srt\n",
    "    model_id = 'cl_pi3C7JiL'\n",
    "    result = ml.classifiers.classify(model_id, data)\n",
    "    text = result.body\n",
    "    long = text[0]['classifications']\n",
    "    answer = long[0]['tag_name']\n",
    "    ls = ls.append({\"text\":data,\"sentiment\":answer},ignore_index=True)\n",
    "    print(answer)"
   ]
  },
  {
   "cell_type": "code",
   "execution_count": 99,
   "metadata": {},
   "outputs": [
    {
     "data": {
      "text/plain": [
       "[{'classifications': [{'confidence': 0.563,\n",
       "    'tag_id': 60333048,\n",
       "    'tag_name': 'Positive'}],\n",
       "  'error': False,\n",
       "  'external_id': None,\n",
       "  'text': '@VirginAmerica is my new go to airline'}]"
      ]
     },
     "execution_count": 99,
     "metadata": {},
     "output_type": "execute_result"
    }
   ],
   "source": [
    "result.body"
   ]
  },
  {
   "cell_type": "code",
   "execution_count": 78,
   "metadata": {},
   "outputs": [],
   "source": [
    "first = ls['sentiment']"
   ]
  },
  {
   "cell_type": "code",
   "execution_count": 79,
   "metadata": {},
   "outputs": [],
   "source": [
    "second = datas['sentiment']"
   ]
  },
  {
   "cell_type": "code",
   "execution_count": 96,
   "metadata": {},
   "outputs": [
    {
     "data": {
      "text/plain": [
       "0       neutral\n",
       "1      negative\n",
       "2      negative\n",
       "3      negative\n",
       "4      negative\n",
       "5      positive\n",
       "6      positive\n",
       "7      negative\n",
       "8      positive\n",
       "9      positive\n",
       "10      neutral\n",
       "11     negative\n",
       "12     negative\n",
       "13     negative\n",
       "14      neutral\n",
       "15     negative\n",
       "16      neutral\n",
       "17     negative\n",
       "18      neutral\n",
       "19     negative\n",
       "20     negative\n",
       "21      neutral\n",
       "22      neutral\n",
       "23     positive\n",
       "24     positive\n",
       "25      neutral\n",
       "26     negative\n",
       "27      neutral\n",
       "28     negative\n",
       "29     negative\n",
       "         ...   \n",
       "169    negative\n",
       "170    positive\n",
       "171     neutral\n",
       "172    positive\n",
       "173    negative\n",
       "174    negative\n",
       "175     neutral\n",
       "176    negative\n",
       "177     neutral\n",
       "178     neutral\n",
       "179    negative\n",
       "180     neutral\n",
       "181    positive\n",
       "182     neutral\n",
       "183    positive\n",
       "184     neutral\n",
       "185    negative\n",
       "186     neutral\n",
       "187    positive\n",
       "188    negative\n",
       "189     neutral\n",
       "190     neutral\n",
       "191    positive\n",
       "192    positive\n",
       "193    negative\n",
       "194    positive\n",
       "195    positive\n",
       "196     neutral\n",
       "197    negative\n",
       "198    positive\n",
       "Name: sentiment, Length: 199, dtype: object"
      ]
     },
     "execution_count": 96,
     "metadata": {},
     "output_type": "execute_result"
    }
   ],
   "source": [
    "for i in first:\n",
    "    first = first.replace('Neutral','neutral')\n",
    "    first = first.replace('Negative','negative')\n",
    "    first = first.replace('Positive','positive')\n",
    "    \n",
    "first"
   ]
  },
  {
   "cell_type": "code",
   "execution_count": 95,
   "metadata": {},
   "outputs": [
    {
     "data": {
      "text/plain": [
       "0       neutral\n",
       "1      positive\n",
       "2       neutral\n",
       "3      negative\n",
       "4      negative\n",
       "5      positive\n",
       "6      positive\n",
       "7      negative\n",
       "8      positive\n",
       "9      positive\n",
       "10      neutral\n",
       "11     negative\n",
       "12     negative\n",
       "13     negative\n",
       "14      neutral\n",
       "15     negative\n",
       "16      neutral\n",
       "17     negative\n",
       "18      neutral\n",
       "19     negative\n",
       "20     negative\n",
       "21     positive\n",
       "22      neutral\n",
       "23     positive\n",
       "24     positive\n",
       "25      neutral\n",
       "26     negative\n",
       "27      neutral\n",
       "28     negative\n",
       "29     negative\n",
       "         ...   \n",
       "169     neutral\n",
       "170    positive\n",
       "171     neutral\n",
       "172    positive\n",
       "173    negative\n",
       "174     neutral\n",
       "175    negative\n",
       "176    negative\n",
       "177     neutral\n",
       "178     neutral\n",
       "179    negative\n",
       "180    negative\n",
       "181     neutral\n",
       "182    positive\n",
       "183    positive\n",
       "184     neutral\n",
       "185     neutral\n",
       "186     neutral\n",
       "187     neutral\n",
       "188    negative\n",
       "189     neutral\n",
       "190    positive\n",
       "191    positive\n",
       "192    positive\n",
       "193    negative\n",
       "194    negative\n",
       "195     neutral\n",
       "196     neutral\n",
       "197    negative\n",
       "198     neutral\n",
       "Name: sentiment, Length: 199, dtype: object"
      ]
     },
     "execution_count": 95,
     "metadata": {},
     "output_type": "execute_result"
    }
   ],
   "source": [
    "second"
   ]
  },
  {
   "cell_type": "code",
   "execution_count": 81,
   "metadata": {
    "collapsed": true
   },
   "outputs": [],
   "source": [
    "from sklearn import metrics"
   ]
  },
  {
   "cell_type": "code",
   "execution_count": 98,
   "metadata": {},
   "outputs": [
    {
     "data": {
      "text/plain": [
       "78.894472361809036"
      ]
     },
     "execution_count": 98,
     "metadata": {},
     "output_type": "execute_result"
    }
   ],
   "source": [
    "metrics.accuracy_score(second,first)*100"
   ]
  },
  {
   "cell_type": "code",
   "execution_count": null,
   "metadata": {
    "collapsed": true
   },
   "outputs": [],
   "source": []
  }
 ],
 "metadata": {
  "kernelspec": {
   "display_name": "Python 3",
   "language": "python",
   "name": "python3"
  },
  "language_info": {
   "codemirror_mode": {
    "name": "ipython",
    "version": 3
   },
   "file_extension": ".py",
   "mimetype": "text/x-python",
   "name": "python",
   "nbconvert_exporter": "python",
   "pygments_lexer": "ipython3",
   "version": "3.6.3"
  }
 },
 "nbformat": 4,
 "nbformat_minor": 2
}
